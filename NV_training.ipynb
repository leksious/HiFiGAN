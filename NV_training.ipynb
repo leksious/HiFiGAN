{
 "cells": [
  {
   "cell_type": "code",
   "execution_count": 1,
   "id": "7839f760",
   "metadata": {
    "cellId": "sjuamaic0m4qcfsgx5j2r"
   },
   "outputs": [
    {
     "name": "stderr",
     "output_type": "stream",
     "text": [
      "Cloning into 'HiFi-GAN'...\n"
     ]
    }
   ],
   "source": [
    "#!g1.1\n",
    "!git clone https://github.com/leksious/HiFi-GAN.git"
   ]
  },
  {
   "cell_type": "code",
   "execution_count": null,
   "id": "f06a6728",
   "metadata": {
    "cellId": "pp807ibapii4gibtjlxhrv"
   },
   "outputs": [],
   "source": [
    "#!g1.1\n",
    "%%bash\n",
    "mkdir ./data\n",
    "mkdir ./saved\n",
    "mkdir ./pretrained\n",
    "wget https://data.keithito.com/data/speech/LJSpeech-1.1.tar.bz2 -O ./data/LJSpeech-1.1.tar.bz2\n",
    "tar -C ./data -xjf ./data/LJSpeech-1.1.tar.bz2\n",
    "rm ./data/LJSpeech-1.1.tar.bz2"
   ]
  },
  {
   "cell_type": "code",
   "execution_count": 169,
   "id": "4eaf10ec",
   "metadata": {
    "cellId": "scho3o94biqfxt27ifs96o"
   },
   "outputs": [],
   "source": [
    "#!g1.1\n",
    "from HiFiGAN.configs import MPDConfig, MSDConfig, GeneratorConfig, MelSpectrogramConfig, TrainerConfig"
   ]
  },
  {
   "cell_type": "code",
   "execution_count": 170,
   "id": "ebcefd91",
   "metadata": {
    "cellId": "42aox9lm23tegiremd4nbt"
   },
   "outputs": [],
   "source": [
    "#!g1.1\n",
    "from HiFiGAN import trainer"
   ]
  },
  {
   "cell_type": "code",
   "execution_count": 171,
   "id": "8a12a2dc",
   "metadata": {
    "cellId": "nga8y2ktc9eocc88ohocf"
   },
   "outputs": [],
   "source": [
    "#!g1.1\n",
    "import warnings\n",
    "warnings.filterwarnings(\"ignore\")"
   ]
  },
  {
   "cell_type": "code",
   "execution_count": 172,
   "id": "0213cc53",
   "metadata": {
    "cellId": "lkawbxegr12lvfzacwcnd",
    "scrolled": true
   },
   "outputs": [
    {
     "name": "stderr",
     "output_type": "stream",
     "text": [
      "Failed to detect the name of this notebook, you can set it manually with the WANDB_NOTEBOOK_NAME environment variable to enable code saving.\n",
      "\u001b[34m\u001b[1mwandb\u001b[0m: Currently logged in as: \u001b[33mlexious\u001b[0m. Use \u001b[1m`wandb login --relogin`\u001b[0m to force relogin\n"
     ]
    },
    {
     "data": {
      "text/html": [
       "wandb version 0.13.7 is available!  To upgrade, please run:\n",
       " $ pip install wandb --upgrade"
      ],
      "text/plain": [
       "<IPython.core.display.HTML object>"
      ]
     },
     "metadata": {},
     "output_type": "display_data"
    },
    {
     "data": {
      "text/html": [
       "Tracking run with wandb version 0.13.4"
      ],
      "text/plain": [
       "<IPython.core.display.HTML object>"
      ]
     },
     "metadata": {},
     "output_type": "display_data"
    },
    {
     "data": {
      "text/html": [
       "Run data is saved locally in <code>/home/jupyter/work/resources/wandb/run-20221221_225419-2op34q5r</code>"
      ],
      "text/plain": [
       "<IPython.core.display.HTML object>"
      ]
     },
     "metadata": {},
     "output_type": "display_data"
    },
    {
     "data": {
      "text/html": [
       "Syncing run <strong><a href=\"https://wandb.ai/lexious/HiFi%20GAN/runs/2op34q5r\" target=\"_blank\">whole-shadow-62</a></strong> to <a href=\"https://wandb.ai/lexious/HiFi%20GAN\" target=\"_blank\">Weights & Biases</a> (<a href=\"https://wandb.me/run\" target=\"_blank\">docs</a>)<br/>"
      ],
      "text/plain": [
       "<IPython.core.display.HTML object>"
      ]
     },
     "metadata": {},
     "output_type": "display_data"
    },
    {
     "name": "stderr",
     "output_type": "stream",
     "text": [
      "100%|██████████| 90/90 [12:32:11<00:00, 501.46s/it]  \n"
     ]
    }
   ],
   "source": [
    "#!g1.1\n",
    "trainer.trainer(GeneratorConfig, MPDConfig, MSDConfig, MelSpectrogramConfig, TrainerConfig)"
   ]
  },
  {
   "cell_type": "markdown",
   "id": "bbedf807",
   "metadata": {
    "cellId": "ck2bbv70pvqrzn32iz0yua",
    "execution_id": "89c77ec0-0365-454a-b97f-b00d73e8baa3"
   },
   "source": [
    "## Inference of the model"
   ]
  },
  {
   "cell_type": "code",
   "execution_count": 173,
   "id": "71fd0ce3",
   "metadata": {
    "cellId": "ffvzd7p699dhv1ai7xgus"
   },
   "outputs": [],
   "source": [
    "#!g1.1\n",
    "from HiFiGAN.Generator import Generator  "
   ]
  },
  {
   "cell_type": "code",
   "execution_count": 174,
   "id": "830f7d44",
   "metadata": {
    "cellId": "fqurx9did1mrh2zbau5cgg"
   },
   "outputs": [],
   "source": [
    "#!g1.1\n",
    "from HiFiGAN.configs import MPDConfig, MSDConfig, GeneratorConfig, MelSpectrogramConfig, TrainerConfig"
   ]
  },
  {
   "cell_type": "code",
   "execution_count": 175,
   "id": "b94ca129",
   "metadata": {
    "cellId": "7t0rq85nrdnfej3mlrldqc"
   },
   "outputs": [],
   "source": [
    "#!g1.1\n",
    "gen = Generator(GeneratorConfig)"
   ]
  },
  {
   "cell_type": "code",
   "execution_count": 176,
   "id": "3fbcba09",
   "metadata": {
    "cellId": "v0109euqlqoc0zncb364la"
   },
   "outputs": [],
   "source": [
    "#!g1.1\n",
    "import torch"
   ]
  },
  {
   "cell_type": "code",
   "execution_count": 177,
   "id": "06a0ad6b",
   "metadata": {
    "cellId": "lizeehdidtdxinf7yowuc"
   },
   "outputs": [],
   "source": [
    "#!g1.1\n",
    "chckp = torch.load('saves/best.pt')"
   ]
  },
  {
   "cell_type": "code",
   "execution_count": 178,
   "id": "21410953",
   "metadata": {
    "cellId": "h2u8ko3frlmfon3in5ng38"
   },
   "outputs": [],
   "source": [
    "#!g1.1\n",
    "chckp = chckp['generator']"
   ]
  },
  {
   "cell_type": "code",
   "execution_count": 179,
   "id": "3c9cc1b7",
   "metadata": {
    "cellId": "nmf1yg3qkwj27cn1tf7v"
   },
   "outputs": [
    {
     "data": {
      "text/plain": [
       "<All keys matched successfully>"
      ]
     },
     "execution_count": 179,
     "metadata": {},
     "output_type": "execute_result"
    }
   ],
   "source": [
    "#!g1.1\n",
    "gen.load_state_dict(chckp)"
   ]
  },
  {
   "cell_type": "code",
   "execution_count": 180,
   "id": "3e5e1dcc",
   "metadata": {
    "cellId": "uhrlu2cg0mevoevyhgesp9"
   },
   "outputs": [],
   "source": [
    "#!g1.1\n",
    "device = torch.device(\"cuda:0\" if torch.cuda.is_available() else \"cpu\")"
   ]
  },
  {
   "cell_type": "code",
   "execution_count": 181,
   "id": "b1d007ca",
   "metadata": {
    "cellId": "4trrl4owwhtcjjlcpcdywn"
   },
   "outputs": [
    {
     "data": {
      "text/plain": [
       "Generator(\n",
       "  (p_c): Conv1d(80, 256, kernel_size=(7,), stride=(1,), padding=(3,))\n",
       "  (usb_block): Sequential(\n",
       "    (0): USBlock(\n",
       "      (convolution): ConvTranspose1d(256, 128, kernel_size=(16,), stride=(8,), padding=(4,))\n",
       "      (mrf): MRF(\n",
       "        (blocks): ModuleList(\n",
       "          (0): ResBlock(\n",
       "            (convolutions): ModuleList(\n",
       "              (0): Conv1d(128, 128, kernel_size=(3,), stride=(1,), padding=(1,))\n",
       "              (1): Conv1d(128, 128, kernel_size=(3,), stride=(1,), padding=(2,), dilation=(2,))\n",
       "            )\n",
       "          )\n",
       "          (1): ResBlock(\n",
       "            (convolutions): ModuleList(\n",
       "              (0): Conv1d(128, 128, kernel_size=(5,), stride=(1,), padding=(4,), dilation=(2,))\n",
       "              (1): Conv1d(128, 128, kernel_size=(5,), stride=(1,), padding=(12,), dilation=(6,))\n",
       "            )\n",
       "          )\n",
       "          (2): ResBlock(\n",
       "            (convolutions): ModuleList(\n",
       "              (0): Conv1d(128, 128, kernel_size=(7,), stride=(1,), padding=(9,), dilation=(3,))\n",
       "              (1): Conv1d(128, 128, kernel_size=(7,), stride=(1,), padding=(36,), dilation=(12,))\n",
       "            )\n",
       "          )\n",
       "        )\n",
       "      )\n",
       "    )\n",
       "    (1): USBlock(\n",
       "      (convolution): ConvTranspose1d(128, 64, kernel_size=(16,), stride=(8,), padding=(4,))\n",
       "      (mrf): MRF(\n",
       "        (blocks): ModuleList(\n",
       "          (0): ResBlock(\n",
       "            (convolutions): ModuleList(\n",
       "              (0): Conv1d(64, 64, kernel_size=(3,), stride=(1,), padding=(1,))\n",
       "              (1): Conv1d(64, 64, kernel_size=(3,), stride=(1,), padding=(2,), dilation=(2,))\n",
       "            )\n",
       "          )\n",
       "          (1): ResBlock(\n",
       "            (convolutions): ModuleList(\n",
       "              (0): Conv1d(64, 64, kernel_size=(5,), stride=(1,), padding=(4,), dilation=(2,))\n",
       "              (1): Conv1d(64, 64, kernel_size=(5,), stride=(1,), padding=(12,), dilation=(6,))\n",
       "            )\n",
       "          )\n",
       "          (2): ResBlock(\n",
       "            (convolutions): ModuleList(\n",
       "              (0): Conv1d(64, 64, kernel_size=(7,), stride=(1,), padding=(9,), dilation=(3,))\n",
       "              (1): Conv1d(64, 64, kernel_size=(7,), stride=(1,), padding=(36,), dilation=(12,))\n",
       "            )\n",
       "          )\n",
       "        )\n",
       "      )\n",
       "    )\n",
       "    (2): USBlock(\n",
       "      (convolution): ConvTranspose1d(64, 32, kernel_size=(8,), stride=(4,), padding=(2,))\n",
       "      (mrf): MRF(\n",
       "        (blocks): ModuleList(\n",
       "          (0): ResBlock(\n",
       "            (convolutions): ModuleList(\n",
       "              (0): Conv1d(32, 32, kernel_size=(3,), stride=(1,), padding=(1,))\n",
       "              (1): Conv1d(32, 32, kernel_size=(3,), stride=(1,), padding=(2,), dilation=(2,))\n",
       "            )\n",
       "          )\n",
       "          (1): ResBlock(\n",
       "            (convolutions): ModuleList(\n",
       "              (0): Conv1d(32, 32, kernel_size=(5,), stride=(1,), padding=(4,), dilation=(2,))\n",
       "              (1): Conv1d(32, 32, kernel_size=(5,), stride=(1,), padding=(12,), dilation=(6,))\n",
       "            )\n",
       "          )\n",
       "          (2): ResBlock(\n",
       "            (convolutions): ModuleList(\n",
       "              (0): Conv1d(32, 32, kernel_size=(7,), stride=(1,), padding=(9,), dilation=(3,))\n",
       "              (1): Conv1d(32, 32, kernel_size=(7,), stride=(1,), padding=(36,), dilation=(12,))\n",
       "            )\n",
       "          )\n",
       "        )\n",
       "      )\n",
       "    )\n",
       "  )\n",
       "  (post_net): Conv1d(32, 1, kernel_size=(7,), stride=(1,), padding=(3,))\n",
       ")"
      ]
     },
     "execution_count": 181,
     "metadata": {},
     "output_type": "execute_result"
    }
   ],
   "source": [
    "#!g1.1\n",
    "gen.eval()"
   ]
  },
  {
   "cell_type": "code",
   "execution_count": 182,
   "id": "2134227a",
   "metadata": {
    "cellId": "hcata4mlrmfenmpduly4rb"
   },
   "outputs": [
    {
     "data": {
      "text/plain": [
       "Generator(\n",
       "  (p_c): Conv1d(80, 256, kernel_size=(7,), stride=(1,), padding=(3,))\n",
       "  (usb_block): Sequential(\n",
       "    (0): USBlock(\n",
       "      (convolution): ConvTranspose1d(256, 128, kernel_size=(16,), stride=(8,), padding=(4,))\n",
       "      (mrf): MRF(\n",
       "        (blocks): ModuleList(\n",
       "          (0): ResBlock(\n",
       "            (convolutions): ModuleList(\n",
       "              (0): Conv1d(128, 128, kernel_size=(3,), stride=(1,), padding=(1,))\n",
       "              (1): Conv1d(128, 128, kernel_size=(3,), stride=(1,), padding=(2,), dilation=(2,))\n",
       "            )\n",
       "          )\n",
       "          (1): ResBlock(\n",
       "            (convolutions): ModuleList(\n",
       "              (0): Conv1d(128, 128, kernel_size=(5,), stride=(1,), padding=(4,), dilation=(2,))\n",
       "              (1): Conv1d(128, 128, kernel_size=(5,), stride=(1,), padding=(12,), dilation=(6,))\n",
       "            )\n",
       "          )\n",
       "          (2): ResBlock(\n",
       "            (convolutions): ModuleList(\n",
       "              (0): Conv1d(128, 128, kernel_size=(7,), stride=(1,), padding=(9,), dilation=(3,))\n",
       "              (1): Conv1d(128, 128, kernel_size=(7,), stride=(1,), padding=(36,), dilation=(12,))\n",
       "            )\n",
       "          )\n",
       "        )\n",
       "      )\n",
       "    )\n",
       "    (1): USBlock(\n",
       "      (convolution): ConvTranspose1d(128, 64, kernel_size=(16,), stride=(8,), padding=(4,))\n",
       "      (mrf): MRF(\n",
       "        (blocks): ModuleList(\n",
       "          (0): ResBlock(\n",
       "            (convolutions): ModuleList(\n",
       "              (0): Conv1d(64, 64, kernel_size=(3,), stride=(1,), padding=(1,))\n",
       "              (1): Conv1d(64, 64, kernel_size=(3,), stride=(1,), padding=(2,), dilation=(2,))\n",
       "            )\n",
       "          )\n",
       "          (1): ResBlock(\n",
       "            (convolutions): ModuleList(\n",
       "              (0): Conv1d(64, 64, kernel_size=(5,), stride=(1,), padding=(4,), dilation=(2,))\n",
       "              (1): Conv1d(64, 64, kernel_size=(5,), stride=(1,), padding=(12,), dilation=(6,))\n",
       "            )\n",
       "          )\n",
       "          (2): ResBlock(\n",
       "            (convolutions): ModuleList(\n",
       "              (0): Conv1d(64, 64, kernel_size=(7,), stride=(1,), padding=(9,), dilation=(3,))\n",
       "              (1): Conv1d(64, 64, kernel_size=(7,), stride=(1,), padding=(36,), dilation=(12,))\n",
       "            )\n",
       "          )\n",
       "        )\n",
       "      )\n",
       "    )\n",
       "    (2): USBlock(\n",
       "      (convolution): ConvTranspose1d(64, 32, kernel_size=(8,), stride=(4,), padding=(2,))\n",
       "      (mrf): MRF(\n",
       "        (blocks): ModuleList(\n",
       "          (0): ResBlock(\n",
       "            (convolutions): ModuleList(\n",
       "              (0): Conv1d(32, 32, kernel_size=(3,), stride=(1,), padding=(1,))\n",
       "              (1): Conv1d(32, 32, kernel_size=(3,), stride=(1,), padding=(2,), dilation=(2,))\n",
       "            )\n",
       "          )\n",
       "          (1): ResBlock(\n",
       "            (convolutions): ModuleList(\n",
       "              (0): Conv1d(32, 32, kernel_size=(5,), stride=(1,), padding=(4,), dilation=(2,))\n",
       "              (1): Conv1d(32, 32, kernel_size=(5,), stride=(1,), padding=(12,), dilation=(6,))\n",
       "            )\n",
       "          )\n",
       "          (2): ResBlock(\n",
       "            (convolutions): ModuleList(\n",
       "              (0): Conv1d(32, 32, kernel_size=(7,), stride=(1,), padding=(9,), dilation=(3,))\n",
       "              (1): Conv1d(32, 32, kernel_size=(7,), stride=(1,), padding=(36,), dilation=(12,))\n",
       "            )\n",
       "          )\n",
       "        )\n",
       "      )\n",
       "    )\n",
       "  )\n",
       "  (post_net): Conv1d(32, 1, kernel_size=(7,), stride=(1,), padding=(3,))\n",
       ")"
      ]
     },
     "execution_count": 182,
     "metadata": {},
     "output_type": "execute_result"
    }
   ],
   "source": [
    "#!g1.1\n",
    "gen.to(device)"
   ]
  },
  {
   "cell_type": "code",
   "execution_count": 183,
   "id": "63c08808",
   "metadata": {
    "cellId": "nm4euqoo8paje63svbmigb"
   },
   "outputs": [],
   "source": [
    "#!g1.1\n",
    "import torchaudio\n",
    "from HiFiGAN.utils import MelSpectrogram, MelSpectrogramConfig\n",
    "from scipy.io.wavfile import write"
   ]
  },
  {
   "cell_type": "code",
   "execution_count": 184,
   "id": "a9e0551e",
   "metadata": {
    "cellId": "fkfdecbkpmhac9ch0yygi"
   },
   "outputs": [],
   "source": [
    "#!g1.1\n",
    "import wandb"
   ]
  },
  {
   "cell_type": "code",
   "execution_count": 185,
   "id": "a767b7f7",
   "metadata": {
    "cellId": "vky20mad0befuofnw1u2r"
   },
   "outputs": [
    {
     "data": {
      "text/html": [
       "Finishing last run (ID:2op34q5r) before initializing another..."
      ],
      "text/plain": [
       "<IPython.core.display.HTML object>"
      ]
     },
     "metadata": {},
     "output_type": "display_data"
    },
    {
     "data": {
      "text/html": [
       "Waiting for W&B process to finish... <strong style=\"color:green\">(success).</strong>"
      ],
      "text/plain": [
       "<IPython.core.display.HTML object>"
      ]
     },
     "metadata": {},
     "output_type": "display_data"
    },
    {
     "data": {
      "application/vnd.jupyter.widget-view+json": {
       "model_id": "6ff564c48b32418f9caf50406143dfb7",
       "version_major": 2,
       "version_minor": 0
      },
      "text/plain": [
       "VBox(children=(Label(value='0.686 MB of 0.686 MB uploaded (0.000 MB deduped)\\r'), FloatProgress(value=1.0, max…"
      ]
     },
     "metadata": {},
     "output_type": "display_data"
    },
    {
     "data": {
      "text/html": [
       "<style>\n",
       "    table.wandb td:nth-child(1) { padding: 0 10px; text-align: left ; width: auto;} td:nth-child(2) {text-align: left ; width: 100%}\n",
       "    .wandb-row { display: flex; flex-direction: row; flex-wrap: wrap; justify-content: flex-start; width: 100% }\n",
       "    .wandb-col { display: flex; flex-direction: column; flex-basis: 100%; flex: 1; padding: 10px; }\n",
       "    </style>\n",
       "<div class=\"wandb-row\"><div class=\"wandb-col\"><h3>Run history:</h3><br/><table class=\"wandb\"><tr><td>Discriminator Learning Rate</td><td>████▇▇▇▇▇▆▆▆▆▆▅▅▅▅▅▅▄▄▄▄▄▃▃▃▃▃▃▂▂▂▂▂▂▁▁▁</td></tr><tr><td>Discriminator Loss Train</td><td>█▇▆▄▄▃▆▃▃▃▃▃▂▂▂▂▂▁▂▂▁▂▂▁▁▁▁▂▁▁▁▁▁▁▁▁▁▁▁▁</td></tr><tr><td>FM Loss train</td><td>▆▁▂█▅▆▄▇▆▇▅▇▆▇▇▆▇▇▇▇▆▇▆▇▇▇▆▇█▇█▇▇▇▇▆█▇▇▇</td></tr><tr><td>Gen Loss on train</td><td>▁▂▄▇▆▅▅▅▆▆▇▇▇▇█▇███▇▇▇████▇█▇████▇███▇▇▇</td></tr><tr><td>Generator Loss train</td><td>█▇▆▅▄▄▃▃▃▄▃▃▃▃▃▂▃▂▂▃▂▂▂▃▃▂▂▂▂▁▁▁▂▂▂▁▂▁▁▁</td></tr><tr><td>LR generator</td><td>████▇▇▇▇▇▆▆▆▆▆▅▅▅▅▅▅▄▄▄▄▄▃▃▃▃▃▃▂▂▂▂▂▂▁▁▁</td></tr><tr><td>Loss Train</td><td>█▅▄▄▃▃▃▃▂▂▂▂▂▂▂▂▂▂▂▂▁▁▁▁▁▁▁▁▁▁▁▁▁▁▁▁▁▁▁▁</td></tr><tr><td>Loss_val</td><td>█▆▅▅▄▄▃▃▃▃▃▂▂▂▃▂▂▂▂▃▂▁▂▂▁▁▁▄▂▁▁▁▁▁▁▁▂▂▂▁</td></tr><tr><td>Mel Loss Val</td><td>█▅▅▄▄▃▃▃▃▂▂▂▂▂▂▂▂▂▁▂▂▁▁▁▂▁▁▂▁▁▁▁▁▁▂▁▂▁▂▁</td></tr><tr><td>Mel Loss train</td><td>█▇▆▄▄▄▄▃▃▄▃▃▃▃▃▂▃▂▂▃▂▂▂▃▂▂▂▂▂▁▁▁▂▂▂▁▂▁▁▁</td></tr><tr><td>epoch</td><td>▁▁▁▁▂▂▂▂▂▃▃▃▃▃▃▄▄▄▄▄▅▅▅▅▅▅▆▆▆▆▆▇▇▇▇▇▇███</td></tr></table><br/></div><div class=\"wandb-col\"><h3>Run summary:</h3><br/><table class=\"wandb\"><tr><td>Discriminator Learning Rate</td><td>0.00018</td></tr><tr><td>Discriminator Loss Train</td><td>0.00611</td></tr><tr><td>FM Loss train</td><td>1.00026</td></tr><tr><td>Gen Loss on train</td><td>8.04164</td></tr><tr><td>Generator Loss train</td><td>20.86225</td></tr><tr><td>LR generator</td><td>0.00018</td></tr><tr><td>Loss Train</td><td>0.25089</td></tr><tr><td>Loss_val</td><td>0.2576</td></tr><tr><td>Mel Loss Val</td><td>0.24536</td></tr><tr><td>Mel Loss train</td><td>0.24045</td></tr><tr><td>epoch</td><td>89</td></tr></table><br/></div></div>"
      ],
      "text/plain": [
       "<IPython.core.display.HTML object>"
      ]
     },
     "metadata": {},
     "output_type": "display_data"
    },
    {
     "data": {
      "text/html": [
       "Synced <strong style=\"color:#cdcd00\">whole-shadow-62</strong>: <a href=\"https://wandb.ai/lexious/HiFi%20GAN/runs/2op34q5r\" target=\"_blank\">https://wandb.ai/lexious/HiFi%20GAN/runs/2op34q5r</a><br/>Synced 5 W&B file(s), 180 media file(s), 0 artifact file(s) and 0 other file(s)"
      ],
      "text/plain": [
       "<IPython.core.display.HTML object>"
      ]
     },
     "metadata": {},
     "output_type": "display_data"
    },
    {
     "data": {
      "text/html": [
       "Find logs at: <code>./wandb/run-20221221_225419-2op34q5r/logs</code>"
      ],
      "text/plain": [
       "<IPython.core.display.HTML object>"
      ]
     },
     "metadata": {},
     "output_type": "display_data"
    },
    {
     "data": {
      "text/html": [
       "Successfully finished last run (ID:2op34q5r). Initializing new run:<br/>"
      ],
      "text/plain": [
       "<IPython.core.display.HTML object>"
      ]
     },
     "metadata": {},
     "output_type": "display_data"
    },
    {
     "data": {
      "application/vnd.jupyter.widget-view+json": {
       "model_id": "c23e06a817204c95ab4dd0909970c5fc",
       "version_major": 2,
       "version_minor": 0
      },
      "text/plain": [
       "VBox(children=(Label(value='Waiting for wandb.init()...\\r'), FloatProgress(value=0.016669370216671572, max=1.0…"
      ]
     },
     "metadata": {},
     "output_type": "display_data"
    },
    {
     "data": {
      "text/html": [
       "wandb version 0.13.7 is available!  To upgrade, please run:\n",
       " $ pip install wandb --upgrade"
      ],
      "text/plain": [
       "<IPython.core.display.HTML object>"
      ]
     },
     "metadata": {},
     "output_type": "display_data"
    },
    {
     "data": {
      "text/html": [
       "Tracking run with wandb version 0.13.4"
      ],
      "text/plain": [
       "<IPython.core.display.HTML object>"
      ]
     },
     "metadata": {},
     "output_type": "display_data"
    },
    {
     "data": {
      "text/html": [
       "Run data is saved locally in <code>/home/jupyter/work/resources/wandb/run-20221222_112703-1e5oje76</code>"
      ],
      "text/plain": [
       "<IPython.core.display.HTML object>"
      ]
     },
     "metadata": {},
     "output_type": "display_data"
    },
    {
     "data": {
      "text/html": [
       "Syncing run <strong><a href=\"https://wandb.ai/lexious/HiFi%20GAN/runs/1e5oje76\" target=\"_blank\">lucky-frog-63</a></strong> to <a href=\"https://wandb.ai/lexious/HiFi%20GAN\" target=\"_blank\">Weights & Biases</a> (<a href=\"https://wandb.me/run\" target=\"_blank\">docs</a>)<br/>"
      ],
      "text/plain": [
       "<IPython.core.display.HTML object>"
      ]
     },
     "metadata": {},
     "output_type": "display_data"
    }
   ],
   "source": [
    "#!g1.1\n",
    "wandb.init(project='HiFi GAN')\n",
    "melspec = MelSpectrogram(MelSpectrogramConfig).to(device)\n",
    "wavs = ['audio_1.wav', 'audio_2.wav', 'audio_3.wav']\n",
    "i = 0\n",
    "for wave in wavs:\n",
    "    wav_real = torchaudio.load(wave)[0].to(device)\n",
    "    mel = melspec(wav_real)\n",
    "    wav = gen(mel)\n",
    "    mel_gen = melspec(wav)\n",
    "    wav = wav.squeeze().cpu().detach().numpy()\n",
    "    write('test' + str(i) + '.wav' , 22050, wav)\n",
    "    i += 1\n",
    "    audio = wandb.Audio(\n",
    "        wav,\n",
    "        sample_rate=22050\n",
    "    )\n",
    "    \n",
    "    wandb.log({\n",
    "        'audio': audio,\n",
    "        'GT_Mel': wandb.Image(mel.detach().cpu()),\n",
    "        'Gen_Mel': wandb.Image(mel_gen.detach().cpu())\n",
    "    })"
   ]
  },
  {
   "cell_type": "code",
   "execution_count": null,
   "id": "56b9984f",
   "metadata": {
    "cellId": "benqay8hc4zlf9gaeb9n9"
   },
   "outputs": [],
   "source": [
    "#!g1.1\n"
   ]
  }
 ],
 "metadata": {
  "language_info": {
   "codemirror_mode": {
    "name": "ipython",
    "version": 3
   },
   "file_extension": ".py",
   "mimetype": "text/x-python",
   "name": "python",
   "nbconvert_exporter": "python",
   "pygments_lexer": "ipython3",
   "version": "3.7.7"
  },
  "notebookId": "6dc63226-0428-4750-bc20-0db02d5cd1af",
  "notebookPath": "Untitled.ipynb"
 },
 "nbformat": 4,
 "nbformat_minor": 5
}
